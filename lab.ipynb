{
 "cells": [
  {
   "cell_type": "code",
   "execution_count": 44,
   "metadata": {},
   "outputs": [
    {
     "data": {
      "text/plain": [
       "[[1, 1, 1],\n",
       " [1, 1, 0],\n",
       " [1, 0, 1],\n",
       " [1, 0, 0],\n",
       " [0, 1, 1],\n",
       " [0, 1, 0],\n",
       " [0, 0, 1],\n",
       " [0, 0, 0]]"
      ]
     },
     "execution_count": 44,
     "metadata": {},
     "output_type": "execute_result"
    }
   ],
   "source": [
    "def generate_bool_combinations(n):\n",
    "    if n == 0:\n",
    "        return [[]]\n",
    "    if n == 1:\n",
    "        return [[1], [0]]\n",
    "    else:\n",
    "        return [[1] + x for x in generate_bool_combinations(n-1)] + [[0] + x for x in generate_bool_combinations(n-1)]\n",
    "    \n",
    "generate_bool_combinations(3)"
   ]
  },
  {
   "cell_type": "code",
   "execution_count": 16,
   "metadata": {},
   "outputs": [
    {
     "name": "stdout",
     "output_type": "stream",
     "text": [
      "1 5 6\n"
     ]
    }
   ],
   "source": [
    "nums = list(map(int, input().split()))\n",
    "nums.sort()\n",
    "print(*nums)"
   ]
  },
  {
   "cell_type": "code",
   "execution_count": null,
   "metadata": {},
   "outputs": [],
   "source": [
    "array = list(map(int, input().split()))\n",
    "x = int(input())\n",
    "index = -1\n",
    "for i in range(len(array)):\n",
    "    if array[i] == x: \n",
    "        index = i\n",
    "        break\n",
    "\n",
    "if index != -1: print(\"Element\", x, \"is present at\", index)\n",
    "else: print(index)"
   ]
  },
  {
   "cell_type": "code",
   "execution_count": 41,
   "metadata": {},
   "outputs": [
    {
     "data": {
      "text/plain": [
       "120"
      ]
     },
     "execution_count": 41,
     "metadata": {},
     "output_type": "execute_result"
    }
   ],
   "source": [
    "def fact_resursive(n):\n",
    "    if n == 1: return 1\n",
    "    return n*fact_resursive(n-1)\n",
    "\n",
    "def fact_iterative(n):\n",
    "    p = 1\n",
    "    for i in range(1, n+1):\n",
    "        p *= i\n",
    "    return p\n",
    "\n",
    "# fact_iterative(5)\n",
    "fact_resursive(5)"
   ]
  },
  {
   "cell_type": "code",
   "execution_count": 7,
   "metadata": {},
   "outputs": [
    {
     "data": {
      "text/plain": [
       "173402521172797813159685037284371942044301"
      ]
     },
     "execution_count": 7,
     "metadata": {},
     "output_type": "execute_result"
    }
   ],
   "source": [
    "def fibo_recursive(n):\n",
    "    if n < 2: return n\n",
    "    return fibo_recursive(n-1) + fibo_recursive(n-2)\n",
    "\n",
    "def fibo_iterative(n):\n",
    "    if n < 3: return n\n",
    "    sum = 0\n",
    "    a, b = 0, 1\n",
    "    for i in range(n-2):\n",
    "        sum = a + b\n",
    "        a, b = b, sum\n",
    "    return sum\n",
    "\n",
    "fibo_iterative(200)\n",
    "\n",
    "# 0, 1, 1, 2, 3, 5, 8, 13, 21, 34"
   ]
  },
  {
   "cell_type": "code",
   "execution_count": 42,
   "metadata": {},
   "outputs": [
    {
     "data": {
      "text/plain": [
       "1.0"
      ]
     },
     "execution_count": 42,
     "metadata": {},
     "output_type": "execute_result"
    }
   ],
   "source": [
    "def binomial_recusive(n, r):\n",
    "    if r > n: return -1\n",
    "    return fact_resursive(n) / (fact_resursive(n-r) * fact_resursive(r))\n",
    "\n",
    "def binomial_iterative(n, r):\n",
    "    if r > n: return -1\n",
    "    return fact_iterative(n) / (fact_iterative(n-r) * fact_iterative(r))\n",
    "\n",
    "binomial_iterative(5, 5)"
   ]
  },
  {
   "cell_type": "code",
   "execution_count": null,
   "metadata": {},
   "outputs": [],
   "source": []
  }
 ],
 "metadata": {
  "kernelspec": {
   "display_name": "Python 3",
   "language": "python",
   "name": "python3"
  },
  "language_info": {
   "codemirror_mode": {
    "name": "ipython",
    "version": 3
   },
   "file_extension": ".py",
   "mimetype": "text/x-python",
   "name": "python",
   "nbconvert_exporter": "python",
   "pygments_lexer": "ipython3",
   "version": "3.12.7"
  }
 },
 "nbformat": 4,
 "nbformat_minor": 2
}
