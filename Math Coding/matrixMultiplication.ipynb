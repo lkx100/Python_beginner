{
 "cells": [
  {
   "cell_type": "code",
   "execution_count": 7,
   "metadata": {},
   "outputs": [
    {
     "name": "stdout",
     "output_type": "stream",
     "text": [
      "[1 2 3]\n",
      "[4 5 6]\n",
      "Addition:  [5 7 9]\n",
      "32 [-3  6 -3]\n",
      "[[1, 2, 3], [4, 5, 6]]\n"
     ]
    }
   ],
   "source": [
    "import numpy as np\n",
    "\n",
    "vector1 = np.array([1,2,3])\n",
    "vector2 = np.array([4,5,6])\n",
    "print(vector1)\n",
    "print(vector2)\n",
    "\n",
    "print(\"Addition: \", vector1 + vector2)\n",
    "\n",
    "result3 = np.dot(vector2,vector1)\n",
    "result4 = np.cross(vector1, vector2)\n",
    "print(result3, result4)\n",
    "\n",
    "matrix1 = ([\n",
    "    [1,2,3],\n",
    "    [4,5,6]\n",
    "])\n",
    "\n",
    "print(matrix1)"
   ]
  },
  {
   "cell_type": "code",
   "execution_count": 2,
   "metadata": {},
   "outputs": [
    {
     "name": "stdout",
     "output_type": "stream",
     "text": [
      "[[1. 0. 0.]\n",
      " [0. 1. 0.]\n",
      " [0. 0. 1.]]\n",
      "Rank is: 3\n",
      "-570.0000000000002\n"
     ]
    }
   ],
   "source": [
    "import numpy as np\n",
    "\n",
    "n = 3  # Size of matrix\n",
    "\n",
    "identity_matrix = np.eye(n)  # Create Identity Matrix\n",
    "\n",
    "print(identity_matrix)\n",
    "\n",
    "matrix1 = np.array([[101,21,3],\n",
    "                    [0,19,0],\n",
    "                    [10,1,0]])\n",
    " \n",
    "rank1 = np.linalg.matrix_rank(matrix1)\n",
    "print(\"Rank is:\", rank1)\n",
    "\n",
    "# To find determinent of Matrix\n",
    "detA = np.linalg.det(matrix1)\n",
    "print(detA)"
   ]
  }
 ],
 "metadata": {
  "kernelspec": {
   "display_name": "Python 3",
   "language": "python",
   "name": "python3"
  },
  "language_info": {
   "codemirror_mode": {
    "name": "ipython",
    "version": 3
   },
   "file_extension": ".py",
   "mimetype": "text/x-python",
   "name": "python",
   "nbconvert_exporter": "python",
   "pygments_lexer": "ipython3",
   "version": "3.10.12"
  }
 },
 "nbformat": 4,
 "nbformat_minor": 2
}
