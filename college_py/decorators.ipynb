{
 "cells": [
  {
   "cell_type": "code",
   "execution_count": 7,
   "metadata": {},
   "outputs": [
    {
     "name": "stdout",
     "output_type": "stream",
     "text": [
      "Date:  2024-03-07\n",
      "Good Morning ,  Lucky\n",
      "Thank You !\n"
     ]
    }
   ],
   "source": [
    "from datetime import date\n",
    "\n",
    "def add_date(func):\n",
    "    def wrapper(*args):\n",
    "        print(\"Date: \", date.today())\n",
    "        # result = return func(*args)\n",
    "        # print(result)\n",
    "        func(*args)\n",
    "        print(\"Thank You !\")\n",
    "    return wrapper\n",
    "\n",
    "@add_date\n",
    "def greet(name, greeting):\n",
    "    print(greeting, \", \", name)\n",
    "\n",
    "greet('Lucky', 'Good Morning')"
   ]
  },
  {
   "cell_type": "code",
   "execution_count": 12,
   "metadata": {},
   "outputs": [
    {
     "name": "stdout",
     "output_type": "stream",
     "text": [
      "Hi,\n",
      "Here add Function is being called\n",
      "Addion is 5\n",
      "Bye\n"
     ]
    }
   ],
   "source": [
    "def log_func(func):\n",
    "    def decorate(*args, **kwargs):\n",
    "        print(\"Hi,\")\n",
    "        print(\"Here\", func.__name__, \"Function is being called\")\n",
    "        result = func(*args, **kwargs)\n",
    "        print(\"Addion is\", result)\n",
    "        print(\"Bye\")\n",
    "    return decorate\n",
    "\n",
    "@log_func\n",
    "def add(a = 1, b = 1):\n",
    "    return a + b\n",
    "\n",
    "add(2, 3)"
   ]
  },
  {
   "cell_type": "code",
   "execution_count": 10,
   "metadata": {},
   "outputs": [
    {
     "name": "stdout",
     "output_type": "stream",
     "text": [
      "Internet Is Working !\n",
      "Login Successfull !!\n",
      "3\n"
     ]
    }
   ],
   "source": [
    "def internet_connection(func):\n",
    "    def wrapper(*args):\n",
    "        print(\"Internet Is Working !\")\n",
    "        func(*args)\n",
    "    return wrapper\n",
    "\n",
    "@internet_connection\n",
    "def user_login(a, b):\n",
    "    print(\"Login Successfull !!\")\n",
    "    print(a + b)\n",
    "\n",
    "user_login(1, 2)"
   ]
  }
 ],
 "metadata": {
  "kernelspec": {
   "display_name": "Python 3",
   "language": "python",
   "name": "python3"
  },
  "language_info": {
   "codemirror_mode": {
    "name": "ipython",
    "version": 3
   },
   "file_extension": ".py",
   "mimetype": "text/x-python",
   "name": "python",
   "nbconvert_exporter": "python",
   "pygments_lexer": "ipython3",
   "version": "3.12.2"
  }
 },
 "nbformat": 4,
 "nbformat_minor": 2
}
