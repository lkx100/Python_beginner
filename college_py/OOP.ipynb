{
 "cells": [
  {
   "cell_type": "code",
   "execution_count": 4,
   "metadata": {},
   "outputs": [
    {
     "name": "stdout",
     "output_type": "stream",
     "text": [
      "Starting Tesla Model S ...\n",
      "Tesla Model S is accelerating with 260 horsepower\n"
     ]
    }
   ],
   "source": [
    "class Car:\n",
    "    def __init__(self, brand, model):\n",
    "        self.brand = brand\n",
    "        self.model = model\n",
    "    def start(self):\n",
    "        return f\"Starting {self.brand} {self.model} ...\"\n",
    "    def accelarate(self):\n",
    "        return f\"{self.brand} {self.model} is accelerating\"\n",
    "    \n",
    "class Engine(Car):\n",
    "    def __init__(self, brand, model, fuel_type, horsepower):\n",
    "        # super() helps in using to:\n",
    "        # 1. To assign values of the inherited class (No need to Repeat)\n",
    "        # 2. Use the methods of the inherited class (No need to Repeat)\n",
    "        super().__init__(brand, model)\n",
    "        self.horsepower = horsepower\n",
    "        self.fuel_type = fuel_type\n",
    "    def accelarate(self):\n",
    "        return f\"{super().accelarate()} with {self.horsepower} horsepower\"\n",
    "    \n",
    "\n",
    "c1 = Engine(\"Tesla\", \"Model S\", \"Electric\", 260)\n",
    "print(c1.start())\n",
    "print(c1.accelarate())"
   ]
  },
  {
   "cell_type": "code",
   "execution_count": 20,
   "metadata": {},
   "outputs": [
    {
     "name": "stdout",
     "output_type": "stream",
     "text": [
      "\n",
      "Format: IPL \n",
      "Player: Virat Kohli \n",
      "Team: RCB \n",
      "Score: 107\n"
     ]
    }
   ],
   "source": [
    "class IPL:\n",
    "    def __init__(self, name, team, format):\n",
    "        self.name = name\n",
    "        self.team = team\n",
    "        self.format = format\n",
    "        \n",
    "class Score(IPL):\n",
    "    def __init__(self, name, team, format, score = 0):\n",
    "        self.score = score\n",
    "\n",
    "        super().__init__(name, team, format)\n",
    "    def get_details(self):\n",
    "        print(\"\\nFormat:\", self.format, \"\\nPlayer:\", self.name, \"\\nTeam:\", self.team, \"\\nScore:\", self.score)\n",
    "    \n",
    "player1 = Score(\"Virat Kohli\", \"RCB\", \"IPL\", score = 107)\n",
    "player1.get_details()"
   ]
  },
  {
   "cell_type": "code",
   "execution_count": null,
   "metadata": {},
   "outputs": [],
   "source": [
    "class Score:\n",
    "    def __init__(self, tot_score):\n",
    "        self.tot_score = tot_score\n",
    "\n",
    "class ODI(Score):\n",
    "    def __init__(self, tot_score):\n",
    "        super().__init__(tot_score)\n",
    "\n",
    "    def get_Run_rate(self):\n",
    "        return f\"Average Run-Rate in ODI Format is {self.tot_score/50}\"\n",
    "\n",
    "class T20(Score):\n",
    "    def __init__(self, tot_score):\n",
    "        super().__init__(tot_score)\n",
    "\n",
    "    def get_Run_rate(self):\n",
    "        return f\"Average Run-Rate in T20 Format is {self.tot_score/20}\"\n",
    "\n",
    "class TEST(Score):\n",
    "    def __init__(self, tot_score, tot_overs):\n",
    "        super().__init__(tot_score)\n",
    "        self.tot_overs = tot_overs\n",
    "\n",
    "    def get_Run_rate(self):\n",
    "        return f\"Average Run-Rate in TEST Format is {self.tot_score/self.tot_overs}\"\n",
    "\n",
    "while True:\n",
    "    print(\"Get Run Rates for the following Cricket Format: \")\n",
    "    print(\"1. ODI\\n2. TEST\\n3. T20\\n4. Exit\")\n",
    "    choice = int(input(\"Enter Your Choice: \"))\n",
    "\n",
    "    match choice:\n",
    "        case 1:\n",
    "            odi_run = int(input(\"Enter Runs in ODI Format: \"))\n",
    "            # if type(odi_run) != int:\n",
    "            #     print(\"Invalid Runs !\\nPlease Enter Runs(Integer Value)\")\n",
    "            #     continue\n",
    "            # p1 = ODI(odi_run)\n",
    "            try:\n",
    "                # odi_run will get input, & p1 will pass odi_run, If some error comes then except will run\n",
    "                p1 = ODI(odi_run)\n",
    "                print(p1.get_Run_rate())\n",
    "            except Exception as e:\n",
    "                print(\"Enter Runs in Integers only\")\n",
    "        case 2:\n",
    "            try:\n",
    "                test_runs = int(input(\"Enter Runs in TEST Format: \"))\n",
    "                test_overs = int(input(\"Enter total Overs in IPL Format: \"))\n",
    "                p3 = TEST(test_runs, test_overs)\n",
    "                print(p3.get_Run_rate())\n",
    "            except:\n",
    "                print(\"Enter Runs in Integers Only\")\n",
    "\n",
    "        case 3:\n",
    "            ipl_run = int(input(\"Enter Runs in IPL Format: \"))\n",
    "            try:\n",
    "                p2 = T20(ipl_run)\n",
    "                print(p2.get_Run_rate())\n",
    "            except:\n",
    "                print(\"Enter Runs in Integers Only\")\n",
    "\n",
    "        case 4:\n",
    "            print(\"Thank You for Using my Program :D\")\n",
    "            break\n",
    "        case _:\n",
    "            print(\"Invalid Choice, Try Again !\")"
   ]
  },
  {
   "cell_type": "code",
   "execution_count": 6,
   "metadata": {},
   "outputs": [
    {
     "name": "stdout",
     "output_type": "stream",
     "text": [
      "Hello\n",
      "division by zero\n",
      "Hi\n"
     ]
    }
   ],
   "source": [
    "try:\n",
    "    print(1/0)\n",
    "\n",
    "except Exception as error:\n",
    "    # \"raise\" will raise the error by compiler, not print it\n",
    "    # raise\n",
    "    print(\"Hello\")\n",
    "    print(error)\n",
    "      \n",
    "\n",
    "finally:\n",
    "    print(\"Hi\")"
   ]
  },
  {
   "cell_type": "code",
   "execution_count": 3,
   "metadata": {},
   "outputs": [
    {
     "name": "stdout",
     "output_type": "stream",
     "text": [
      "5\n",
      "[2, 4, 6]\n",
      "<class 'complex'>\n"
     ]
    }
   ],
   "source": [
    "add = lambda x, y: x + y\n",
    "print(add(2, 3))\n",
    "\n",
    "result = list(filter(lambda x: x % 2 == 0, [1,2,3,4,5,6,7]))\n",
    "print(result)\n",
    "\n",
    "print(type(3+4j))"
   ]
  },
  {
   "cell_type": "code",
   "execution_count": 11,
   "metadata": {},
   "outputs": [
    {
     "name": "stdout",
     "output_type": "stream",
     "text": [
      "[2.23606797749979, 2.8284271247461903]\n",
      "2.8284271247461903\n"
     ]
    }
   ],
   "source": [
    "# def max(my_list):\n",
    "#     maxi = -1\n",
    "#     for i in my_list:\n",
    "#         if type(i) == complex:\n",
    "#             if i.real > maxi:\n",
    "#                 maxi = i.real\n",
    "#         else:\n",
    "#             if i > maxi:\n",
    "#                 i = maxi\n",
    "#     return maxi\n",
    "\n",
    "# my_list = [1, 2, 3, 4, -6, 99+1j, 9.67, 100+50j]\n",
    "# result = [i.real for i in my_list]\n",
    "# max(result)\n",
    "# result\n",
    "\n",
    "my_list = [abs(i) for i in [1+2j, 2+2j]]\n",
    "print(my_list)\n",
    "\n",
    "a = [1+2j, 2+2j]\n",
    "\n",
    "print(max(abs(x) for x in a))\n",
    "\n",
    "# my_list = [1, 2, 3.7, 4+7j]\n",
    "\n",
    "# print(max(my_list))"
   ]
  },
  {
   "cell_type": "code",
   "execution_count": 18,
   "metadata": {},
   "outputs": [
    {
     "name": "stdout",
     "output_type": "stream",
     "text": [
      "['apple', 'banana', 'cherry']\n",
      "<class 'str'>\n",
      "applebananacherry\n",
      "1, ,2, ,3, ,4, ,5\n"
     ]
    }
   ],
   "source": [
    "# Join Method\n",
    "\n",
    "my_list = ['apple', 'banana', 'cherry']\n",
    "\n",
    "my_str = str(my_list)\n",
    "print(my_str)\n",
    "\n",
    "# 'expression'.join method we can use 'expression' to join according to our wish\n",
    "# Not works for int, float, complex\n",
    "\n",
    "join_my_str = ''.join(my_list)\n",
    "print(type(join_my_str))\n",
    "print(join_my_str)\n",
    "\n",
    "numbers = input(\"Enter Numbers:\")\n",
    "\n",
    "list_of_numbers = ','.join(numbers)\n",
    "print(list_of_numbers)\n"
   ]
  },
  {
   "cell_type": "code",
   "execution_count": 21,
   "metadata": {},
   "outputs": [
    {
     "name": "stdout",
     "output_type": "stream",
     "text": [
      "False\n",
      "False\n"
     ]
    }
   ],
   "source": [
    "print('aA'.islower())\n",
    "print('Aa'.isupper())"
   ]
  },
  {
   "cell_type": "code",
   "execution_count": 37,
   "metadata": {},
   "outputs": [
    {
     "name": "stdout",
     "output_type": "stream",
     "text": [
      "-------hello--------\n",
      "       hello        \n"
     ]
    }
   ],
   "source": [
    "filled_text = \"hello\".center(20, '-')\n",
    "centered_text = \"hello\".center(20)\n",
    "\n",
    "print(filled_text)\n",
    "print(centered_text)\n"
   ]
  },
  {
   "cell_type": "code",
   "execution_count": 38,
   "metadata": {},
   "outputs": [
    {
     "data": {
      "text/plain": [
       "'December'"
      ]
     },
     "execution_count": 38,
     "metadata": {},
     "output_type": "execute_result"
    }
   ],
   "source": [
    "def month(num):\n",
    "    match num:\n",
    "        case 1:\n",
    "            return 'January'\n",
    "        case 2: \n",
    "            return 'February'\n",
    "        case 3:\n",
    "            return 'March'\n",
    "        case 4:\n",
    "            return 'April'\n",
    "        case 5:\n",
    "            return 'May'\n",
    "        case 6:\n",
    "            return 'June'\n",
    "        case 7:\n",
    "            return 'July'\n",
    "        case 8:\n",
    "            return 'August'\n",
    "        case 9:\n",
    "            return 'September'\n",
    "        case 10:\n",
    "            return 'October'\n",
    "        case 11:\n",
    "            return 'November'\n",
    "        case 12:\n",
    "            return 'December'\n",
    "        case _:\n",
    "            return 'Invalid Month'\n",
    "\n",
    "month(int(input(\"Enter Month Number: \")))"
   ]
  },
  {
   "cell_type": "code",
   "execution_count": 40,
   "metadata": {},
   "outputs": [
    {
     "name": "stdout",
     "output_type": "stream",
     "text": [
      "1\n",
      "2\n",
      "3\n",
      "4\n",
      "5\n"
     ]
    }
   ],
   "source": [
    "numbers = [1,2,3,4,5]\n",
    "for _ in range(len(numbers)):\n",
    "    print(numbers[_])"
   ]
  },
  {
   "cell_type": "code",
   "execution_count": 44,
   "metadata": {},
   "outputs": [
    {
     "name": "stdout",
     "output_type": "stream",
     "text": [
      "No Figure Exists!\n",
      "25\n",
      "20\n",
      "Car is Starting ...\n",
      "Bus is Starting ...\n",
      "+ for Integer: 3\n",
      "+ for String: Hello World\n"
     ]
    }
   ],
   "source": [
    "# Method Over-Writing\n",
    "\n",
    "class area:\n",
    "    def get_area(self, a = 0, b = 0):\n",
    "        if a != 0 and b != 0:\n",
    "            return a*b\n",
    "        elif a != 0:\n",
    "            return a*a\n",
    "        else:\n",
    "            return \"No Figure Exists!\"\n",
    "        \n",
    "obj = area()    # Same Method with diff arguments\n",
    "print(obj.get_area())\n",
    "print(obj.get_area(5))\n",
    "print(obj.get_area(5, 4))\n",
    "\n",
    "# Method Over-Loading -> Using same method in different classes\n",
    "\n",
    "class Car:\n",
    "    def start(self):\n",
    "        print(\"Car is Starting ...\")\n",
    "\n",
    "class Bus(Car):\n",
    "    def start(self):\n",
    "        print(\"Bus is Starting ...\")\n",
    "\n",
    "c = Car()\n",
    "b = Bus()\n",
    "\n",
    "c.start()\n",
    "b.start()\n",
    "\n",
    "# Operator Over-Loading -> Using same operator in different classes\n",
    "\n",
    "print(\"+ for Integer:\", 1+2)\n",
    "print(\"+ for String:\", \"Hello \" + \"World\")"
   ]
  },
  {
   "cell_type": "code",
   "execution_count": null,
   "metadata": {},
   "outputs": [],
   "source": [
    "from abstract_class_method import abc\n",
    "\n",
    "class Shape(abc):\n",
    "    @abc\n",
    "    def area(self):\n",
    "        pass"
   ]
  }
 ],
 "metadata": {
  "kernelspec": {
   "display_name": "Python 3",
   "language": "python",
   "name": "python3"
  },
  "language_info": {
   "codemirror_mode": {
    "name": "ipython",
    "version": 3
   },
   "file_extension": ".py",
   "mimetype": "text/x-python",
   "name": "python",
   "nbconvert_exporter": "python",
   "pygments_lexer": "ipython3",
   "version": "3.12.2"
  }
 },
 "nbformat": 4,
 "nbformat_minor": 2
}
