{
 "cells": [
  {
   "cell_type": "code",
   "execution_count": 14,
   "metadata": {},
   "outputs": [
    {
     "name": "stdout",
     "output_type": "stream",
     "text": [
      "9.4\n"
     ]
    }
   ],
   "source": [
    "# In this Project, I am creating a replica of my own ERP details\n",
    "\n",
    "# Create a Dictionary with all the important Main Sections in ERP which has key & values in it\n",
    "\n",
    "ERP = {\n",
    "    \"Account_Status\": None,\n",
    "    \"Home\" : None,\n",
    "    \"Attendance Registration\": None,\n",
    "    \"Courses\": {\n",
    "        \"Assignments\": None,\n",
    "        \"Handouts\": None,\n",
    "        \"Material\": None,\n",
    "        \"Internals\": None,\n",
    "    },\n",
    "    \"Exam Section\": {\n",
    "        \"End Exam Result\": None,\n",
    "        \"In-Sem Scripts\": None,\n",
    "        \"Exam Seating Room\": None\n",
    "    },\n",
    "    \"Feedback\": None,\n",
    "    \"Fee Payments\": {\n",
    "        \"My Payments\": None,\n",
    "        \"My Sem Fee Structure\": None,\n",
    "        \"Pay Sem Fee\": None,\n",
    "        \"Pay Tution Fee\": None,\n",
    "    },\n",
    "    \"My CGPA\": None,\n",
    "    \"Profile\": None,\n",
    "    \"My Transportation\": None\n",
    "}\n",
    "\n",
    "# Students will be objects which will this ERP Catalog after instantiate them.\n",
    "# Create a Student class have few credentials as login details and assign this dictionary to them\n",
    "\n",
    "class StudentErp:\n",
    "    \n",
    "    def __init__(self, id, password):\n",
    "        self.id = id\n",
    "        self.password = password\n",
    "        self.erp = ERP\n",
    "        self.erp[\"Account_Status\"] = True\n",
    "\n",
    "    def set_cgpa(self, score = None):\n",
    "        if score == None:\n",
    "            print(f\"No CGPA Found !\\nTry Adding it\")\n",
    "        else:\n",
    "            return score\n",
    "\n",
    "s1 = StudentErp('231080034', 'Klh@#$4569')\n",
    "s1.erp['My CGPA'] = s1.set_cgpa(9.4)\n",
    "print(s1.erp['My CGPA'])"
   ]
  }
 ],
 "metadata": {
  "kernelspec": {
   "display_name": "Python 3",
   "language": "python",
   "name": "python3"
  },
  "language_info": {
   "codemirror_mode": {
    "name": "ipython",
    "version": 3
   },
   "file_extension": ".py",
   "mimetype": "text/x-python",
   "name": "python",
   "nbconvert_exporter": "python",
   "pygments_lexer": "ipython3",
   "version": "3.12.2"
  }
 },
 "nbformat": 4,
 "nbformat_minor": 2
}
